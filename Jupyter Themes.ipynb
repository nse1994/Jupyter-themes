{
 "cells": [
  {
   "cell_type": "code",
   "execution_count": null,
   "id": "44be2824",
   "metadata": {},
   "outputs": [],
   "source": [
    "# https://github.com/dunovank/jupyter-themes\n",
    "\n",
    "# # install jupyterthemes\n",
    "# !pip install jupyterthemes\n"
   ]
  },
  {
   "cell_type": "code",
   "execution_count": null,
   "id": "30c8dad0",
   "metadata": {},
   "outputs": [],
   "source": [
    "# list themes\n",
    "!jt -l"
   ]
  },
  {
   "cell_type": "code",
   "execution_count": null,
   "id": "2f3578fe",
   "metadata": {},
   "outputs": [],
   "source": [
    "# select theme name\n",
    "!jt -t <theme-name>"
   ]
  },
  {
   "cell_type": "code",
   "execution_count": null,
   "id": "afa774e1",
   "metadata": {},
   "outputs": [],
   "source": [
    "#reset theme\n",
    "!jt -r"
   ]
  },
  {
   "cell_type": "code",
   "execution_count": null,
   "id": "89002e3d",
   "metadata": {},
   "outputs": [],
   "source": [
    "# custom dark mode \n",
    "!jt -t onedork -fs 95 -tfs 11 -nfs 115 -cellw 88% -T -N"
   ]
  },
  {
   "cell_type": "code",
   "execution_count": 1,
   "id": "4c60631a",
   "metadata": {},
   "outputs": [],
   "source": [
    "#custom light mode\n",
    "!jt -t grade3 -fs 95 -tfs 11 -nfs 115 -cellw 88% -T -N\n"
   ]
  }
 ],
 "metadata": {
  "kernelspec": {
   "display_name": "Python 3 (ipykernel)",
   "language": "python",
   "name": "python3"
  },
  "language_info": {
   "codemirror_mode": {
    "name": "ipython",
    "version": 3
   },
   "file_extension": ".py",
   "mimetype": "text/x-python",
   "name": "python",
   "nbconvert_exporter": "python",
   "pygments_lexer": "ipython3",
   "version": "3.8.11"
  }
 },
 "nbformat": 4,
 "nbformat_minor": 5
}
